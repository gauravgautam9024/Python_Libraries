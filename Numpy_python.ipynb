{
 "cells": [
  {
   "cell_type": "code",
   "execution_count": null,
   "id": "e754815a-aa0b-4669-9ced-85e32d9bbcd7",
   "metadata": {},
   "outputs": [],
   "source": [
    "Python library :-\n",
    "                   NUMPY is also part of python library and its mean (Numerical Python) \n",
    "                   its also work like manipulation and mathematical operation in python\n",
    "use numpy \n",
    "!pip install numpy"
   ]
  },
  {
   "cell_type": "code",
   "execution_count": 2,
   "id": "5b119db8-4884-4dd3-9348-4bdf2685af36",
   "metadata": {},
   "outputs": [
    {
     "name": "stdout",
     "output_type": "stream",
     "text": [
      "[12  3  5  7 89  5]\n",
      "<class 'numpy.ndarray'>\n"
     ]
    },
    {
     "data": {
      "text/plain": [
       "6"
      ]
     },
     "execution_count": 2,
     "metadata": {},
     "output_type": "execute_result"
    }
   ],
   "source": [
    "import numpy as np      #this is access numpy in your file\n",
    "\n",
    "\"\"\" Array => array also collection of data and its work like list and you access array in python throw by numpy library and \n",
    "          array size fix ones you create here after we not change thier size \"\"\"\n",
    "n = np.array([12,3,5,7,89,5])       # array in numpy\n",
    "print(n)\n",
    "print(type(n))      #type of variable  <class 'numpy.ndarray'>\n",
    "\n",
    "#1. NDIM => this is for number of dimensions of array\n",
    "n.ndim\n",
    "\n",
    "# .2 Shape\n",
    "m = np.array(([23,34,3],[34,5,43]))\n",
    "m.shape             #its also give array size how many rows and columns in your array\n",
    "\n",
    "# .3 Size\n",
    "n.size           #its give how many elements in your array its give number of elements\n"
   ]
  },
  {
   "cell_type": "code",
   "execution_count": 10,
   "id": "6dce5186-848b-4800-b499-b5d9e9fa3a51",
   "metadata": {},
   "outputs": [
    {
     "name": "stdout",
     "output_type": "stream",
     "text": [
      "float64\n"
     ]
    }
   ],
   "source": [
    "# Data type (dype )=> its for data type of your data in present in array\n",
    "m = np.array(([34,54,35.3],[44,5,4]))\n",
    "print(m.dtype)\n"
   ]
  },
  {
   "cell_type": "code",
   "execution_count": null,
   "id": "1c676e6d-798c-4d74-8ead-b09504554aec",
   "metadata": {},
   "outputs": [],
   "source": [
    "Arange in numpy =>\n",
    "                   arange its work like range but in numpy its work with name arange\n",
    "Linspace in numpy =>\n",
    "                     linspace its also work like arange and in linspace are also give dype attribute"
   ]
  },
  {
   "cell_type": "code",
   "execution_count": 6,
   "id": "9957e859-ce47-430b-9739-4e7d7581436d",
   "metadata": {},
   "outputs": [
    {
     "data": {
      "text/plain": [
       "array([-5.,  2.])"
      ]
     },
     "execution_count": 6,
     "metadata": {},
     "output_type": "execute_result"
    }
   ],
   "source": [
    "# arange use in python\n",
    "c = np.arange(1,20)\n",
    "c\n",
    "\n",
    "\"\"\" Arange with reshape in numpy \"\"\"\n",
    "d = np.arange(0,12).reshape(4,3)\n",
    "d            #its arrange your value in array \n",
    "a = np.arange(0,20).reshape(4,5)\n",
    "a\n",
    "\n",
    "#linspace\n",
    "a = np.linspace(-10,20,dtype=int)\n",
    "a\n",
    "v = np.linspace(-5,2,2,dtype = float)\n",
    "v"
   ]
  },
  {
   "cell_type": "code",
   "execution_count": 19,
   "id": "e653d9d0-db63-4070-972c-a7e5f8b09bcd",
   "metadata": {},
   "outputs": [
    {
     "data": {
      "text/plain": [
       "array([[0., 0., 0., 0.],\n",
       "       [0., 0., 0., 0.],\n",
       "       [0., 0., 0., 0.]])"
      ]
     },
     "execution_count": 19,
     "metadata": {},
     "output_type": "execute_result"
    }
   ],
   "source": [
    "\"\"\" ZEROS = > np.zeros in numpy its create array use with zero in elements \"\"\"\n",
    "b = np.zeros((3,4))\n",
    "b"
   ]
  },
  {
   "cell_type": "code",
   "execution_count": 20,
   "id": "4c781e37-c890-471d-88bb-c01ddc9850e2",
   "metadata": {},
   "outputs": [
    {
     "data": {
      "text/plain": [
       "array([[1., 1., 1., 1., 1., 1.],\n",
       "       [1., 1., 1., 1., 1., 1.],\n",
       "       [1., 1., 1., 1., 1., 1.],\n",
       "       [1., 1., 1., 1., 1., 1.]])"
      ]
     },
     "execution_count": 20,
     "metadata": {},
     "output_type": "execute_result"
    }
   ],
   "source": [
    "\"\"\" ONES = > np.ones in numpy its create array use with one in elements  \"\"\"\n",
    "n = np.ones((4,6))\n",
    "n"
   ]
  },
  {
   "cell_type": "code",
   "execution_count": null,
   "id": "60b5a597-9ba2-4984-adab-4cc9b1d58986",
   "metadata": {},
   "outputs": [],
   "source": [
    "Random =>\n",
    "         random its also work in numpy and its use to create random number in array and in python\n",
    "Rand  =>\n",
    "         rand its also work in numpy and its use to create random number in array and in python and its also take single ()\n",
    "Randint =>\n",
    "           randint its also work in numpy and its use to create int random number in array and in python its only create int number\n",
    "Seed =>\n",
    "       seed its use to control random frequency"
   ]
  },
  {
   "cell_type": "code",
   "execution_count": 28,
   "id": "c4d7cea2-04f8-47e2-b15f-9d4dcf054f2e",
   "metadata": {},
   "outputs": [
    {
     "data": {
      "text/plain": [
       "array([ 3,  4, 15, 18,  8], dtype=int32)"
      ]
     },
     "execution_count": 28,
     "metadata": {},
     "output_type": "execute_result"
    }
   ],
   "source": [
    "b = np.random.random((5,3))\n",
    "b\n",
    "\n",
    "# rand\n",
    "v = np.random.rand(2,3)\n",
    "v\n",
    "\n",
    "# randint\n",
    "m = np.random.randint(1,20,5)\n",
    "m"
   ]
  },
  {
   "cell_type": "code",
   "execution_count": 13,
   "id": "26c48c4f-e08c-4fa9-9ddc-4ee92e69c6ea",
   "metadata": {},
   "outputs": [
    {
     "data": {
      "text/plain": [
       "[array([[0, 1, 2]]),\n",
       " array([[3, 4, 5]]),\n",
       " array([[6, 7, 8]]),\n",
       " array([[ 9, 10, 11]])]"
      ]
     },
     "execution_count": 13,
     "metadata": {},
     "output_type": "execute_result"
    }
   ],
   "source": [
    "\"\"\" Splitting =>\n",
    "              splitting in python  its split elements in array\n",
    " \"\"\"\n",
    "n = np.arange(0,12).reshape(4,3)\n",
    "m = np.split(n,4)\n",
    "m\n"
   ]
  },
  {
   "cell_type": "code",
   "execution_count": 17,
   "id": "bee13ae7-3f2f-47ea-9cbc-df626be0996f",
   "metadata": {},
   "outputs": [
    {
     "data": {
      "text/plain": [
       "array([[ 0,  4,  8],\n",
       "       [ 1,  5,  9],\n",
       "       [ 2,  6, 10],\n",
       "       [ 3,  7, 11]])"
      ]
     },
     "execution_count": 17,
     "metadata": {},
     "output_type": "execute_result"
    }
   ],
   "source": [
    "\"\"\" TRANSPOSE => \n",
    "             transpose its use to change row number in column and column number in row number \"\"\"\n",
    "n = np.arange(0,12).reshape(3,4)\n",
    "v = np.transpose(n)\n",
    "v"
   ]
  },
  {
   "cell_type": "code",
   "execution_count": 21,
   "id": "8a4d646a-edf7-4ce8-bc4f-61a88dc5fac1",
   "metadata": {},
   "outputs": [
    {
     "data": {
      "text/plain": [
       "array([0, 1, 2, 3, 4, 5])"
      ]
     },
     "execution_count": 21,
     "metadata": {},
     "output_type": "execute_result"
    }
   ],
   "source": [
    "\"\"\" RAVEL =>\n",
    "            Ravel its use to convert into flat array \"\"\"\n",
    "b = np.arange(0,6).reshape(3,2)\n",
    "np.ravel(b)"
   ]
  },
  {
   "cell_type": "code",
   "execution_count": null,
   "id": "8ec2342a-c980-4a0d-9725-f8ca836b7b91",
   "metadata": {},
   "outputs": [],
   "source": []
  }
 ],
 "metadata": {
  "kernelspec": {
   "display_name": "Python 3 (ipykernel)",
   "language": "python",
   "name": "python3"
  },
  "language_info": {
   "codemirror_mode": {
    "name": "ipython",
    "version": 3
   },
   "file_extension": ".py",
   "mimetype": "text/x-python",
   "name": "python",
   "nbconvert_exporter": "python",
   "pygments_lexer": "ipython3",
   "version": "3.13.7"
  }
 },
 "nbformat": 4,
 "nbformat_minor": 5
}
